{
 "cells": [
  {
   "cell_type": "code",
   "execution_count": 5,
   "metadata": {},
   "outputs": [
    {
     "data": {
      "text/html": [
       "<div>\n",
       "<style scoped>\n",
       "    .dataframe tbody tr th:only-of-type {\n",
       "        vertical-align: middle;\n",
       "    }\n",
       "\n",
       "    .dataframe tbody tr th {\n",
       "        vertical-align: top;\n",
       "    }\n",
       "\n",
       "    .dataframe thead th {\n",
       "        text-align: right;\n",
       "    }\n",
       "</style>\n",
       "<table border=\"1\" class=\"dataframe\">\n",
       "  <thead>\n",
       "    <tr style=\"text-align: right;\">\n",
       "      <th></th>\n",
       "      <th>Text</th>\n",
       "      <th>MediaLink</th>\n",
       "      <th>MediaType</th>\n",
       "      <th>ReactionsCount</th>\n",
       "      <th>SharesCount</th>\n",
       "      <th>Comments</th>\n",
       "    </tr>\n",
       "  </thead>\n",
       "  <tbody>\n",
       "    <tr>\n",
       "      <th>0</th>\n",
       "      <td>Top 10 Most Popular Open-Source Databases  This list is based on factors like adoption, industry impact, and the general awareness of the database among the developer community.  1 - MySQL 2 - PostgreSQL 3 - MariaDB 4 - Apache Cassandra 5 - Neo4j 6 - SQLite 7 - CockroachDB 8 - Redis 9 - MongoDB 10 - Couchbase  Over to you: Which other database would you add to this list?-- Subscribe to our weekly newsletter to get a Free System Design PDF (158 pages): https://bit.ly/3KCnWXqhashtag#systemdesign hashtag#coding hashtag#interviewtips .\\n\\n\\n\\n\\n\\n\\n\\n    Voir la traduction</td>\n",
       "      <td>https://media.licdn.com/dms/image/D4E22AQEXNSisUGNLHQ/feedshare-shrink_800/0/1718207113929?e=1723075200&amp;v=beta&amp;t=_GGgPS3W0bIVRek8neI4U8TytkzvDCCjFC5l1TRTwtg</td>\n",
       "      <td>Image</td>\n",
       "      <td>2438</td>\n",
       "      <td>377</td>\n",
       "      <td>[]</td>\n",
       "    </tr>\n",
       "  </tbody>\n",
       "</table>\n",
       "</div>"
      ],
      "text/plain": [
       "                                                                                                                                                                                                                                                                                                                                                                                                                                                                                                                                                                                              Text  \\\n",
       "0  Top 10 Most Popular Open-Source Databases  This list is based on factors like adoption, industry impact, and the general awareness of the database among the developer community.  1 - MySQL 2 - PostgreSQL 3 - MariaDB 4 - Apache Cassandra 5 - Neo4j 6 - SQLite 7 - CockroachDB 8 - Redis 9 - MongoDB 10 - Couchbase  Over to you: Which other database would you add to this list?-- Subscribe to our weekly newsletter to get a Free System Design PDF (158 pages): https://bit.ly/3KCnWXqhashtag#systemdesign hashtag#coding hashtag#interviewtips .\\n\\n\\n\\n\\n\\n\\n\\n    Voir la traduction   \n",
       "\n",
       "                                                                                                                                                      MediaLink  \\\n",
       "0  https://media.licdn.com/dms/image/D4E22AQEXNSisUGNLHQ/feedshare-shrink_800/0/1718207113929?e=1723075200&v=beta&t=_GGgPS3W0bIVRek8neI4U8TytkzvDCCjFC5l1TRTwtg   \n",
       "\n",
       "  MediaType  ReactionsCount  SharesCount Comments  \n",
       "0     Image            2438          377       []  "
      ]
     },
     "execution_count": 5,
     "metadata": {},
     "output_type": "execute_result"
    }
   ],
   "source": [
    "import pandas as pd\n",
    "from ast import literal_eval\n",
    "\n",
    "pd.options.display.max_colwidth = 10000\n",
    "df = pd.read_csv('linkedin_posts_2024-07-04.csv')\n",
    "df['Comments'] = df['Comments'].apply(literal_eval)\n",
    "json_data = df.to_json(orient='records')\n",
    "\n",
    "df"
   ]
  }
 ],
 "metadata": {
  "kernelspec": {
   "display_name": "projet_fouille",
   "language": "python",
   "name": "python3"
  },
  "language_info": {
   "codemirror_mode": {
    "name": "ipython",
    "version": 3
   },
   "file_extension": ".py",
   "mimetype": "text/x-python",
   "name": "python",
   "nbconvert_exporter": "python",
   "pygments_lexer": "ipython3",
   "version": "3.10.13"
  }
 },
 "nbformat": 4,
 "nbformat_minor": 2
}
